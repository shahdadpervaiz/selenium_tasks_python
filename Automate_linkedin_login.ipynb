{
 "cells": [
  {
   "cell_type": "code",
   "execution_count": 16,
   "id": "4b656c34",
   "metadata": {},
   "outputs": [],
   "source": [
    "from selenium import webdriver\n",
    "import time\n",
    "from selenium.webdriver.common.keys import Keys\n",
    "from selenium.webdriver.common.action_chains import ActionChains"
   ]
  },
  {
   "cell_type": "code",
   "execution_count": 44,
   "id": "6a63b815",
   "metadata": {},
   "outputs": [
    {
     "name": "stdout",
     "output_type": "stream",
     "text": [
      "Enter the user_name :\n",
      "Enter the password :\n",
      "Enter the search key :\n"
     ]
    },
    {
     "data": {
      "text/plain": [
       "'search_element = driver.find_element(by=\"xpath\", \\n                                     value = credentials[\"search_person\"])\\nsearch_element.click()\\ntime.sleep(2)\\nsearch_element.send_keys(search_key)\\nsearch_element.send_keys(Keys.ENTER)\\n'"
      ]
     },
     "execution_count": 44,
     "metadata": {},
     "output_type": "execute_result"
    }
   ],
   "source": [
    "us_id = input('Enter the user_name :')\n",
    "pas = input('Enter the password :')\n",
    "\n",
    "search_key= input('Enter the search key :')\n",
    "\n",
    "credentials = {\"user_name\":\"username\",\n",
    "               \"passwrd\":\"password\" ,\n",
    "               \"ent\":\"/html/body/div/main/div[2]/div[1]/form/div[3]/button\",\n",
    "               \"search_person\":\"/html/body/div[5]/header/div/div/div/div[1]/input\",\n",
    "               \"but\":\"button\"\n",
    "              }\n",
    "\n",
    "\n",
    "driver = webdriver.Firefox()\n",
    "web = driver.get('https://www.linkedin.com/login?fromSignIn=true&trk=guest_homepage-basic_nav-header-signin')\n",
    "time.sleep(5)\n",
    "\n",
    "user_element = driver.find_element(by=\"id\",\n",
    "                                   value=credentials[\"user_name\"])\n",
    "time.sleep(4)\n",
    "user_element.send_keys(us_id)\n",
    "\n",
    "pss_element = driver.find_element(by=\"id\", \n",
    "                                  value = credentials[\"passwrd\"])\n",
    "time.sleep(2)\n",
    "pss_element.send_keys(pas) \n",
    "\n",
    "pss_element = driver.find_element(by=\"xpath\",value =credentials[\"ent\"])\n",
    "pss_element.click()\n",
    "\n",
    "time.sleep(5)\n",
    "\n",
    "search_element = driver.find_element(by=\"xpath\", \n",
    "                                     value = credentials[\"search_person\"])\n",
    "search_element.click()\n",
    "time.sleep(2)\n",
    "search_element.send_keys(search_key)\n",
    "search_element.send_keys(Keys.ENTER)\n",
    "\n",
    "time.sleep(2)\n",
    "driver.get(f'https://www.linkedin.com/search/results/people/?heroEntityKey=urn%3Ali%3Aorganization%3A9437593&keywords={search_key}&origin=CLUSTER_EXPANSION&position=1&searchId=eadc3aa1-2ef3-428a-ab60-7438bd94402e&sid=Co4')\n",
    "\n",
    "\n",
    "time.sleep(2)\n",
    "\n",
    "send_re = driver.find_elements(by='tag name', value =credentials['but'])\n",
    "for btn in send_re:\n",
    "    if btn.text == \"Connect\":\n",
    "        btn.click()\n",
    "        time.sleep(2)\n",
    "        sen = driver.find_elements(by ='tag name', value= credentials[\"but\"])\n",
    "        for bt in sen:\n",
    "            if bt.text == 'Send':\n",
    "                bt.click()\n",
    "            print('request sent')\n",
    "    else:\n",
    "        print('not working')"
   ]
  },
  {
   "cell_type": "code",
   "execution_count": null,
   "id": "568896e2",
   "metadata": {},
   "outputs": [],
   "source": []
  }
 ],
 "metadata": {
  "kernelspec": {
   "display_name": "Python 3 (ipykernel)",
   "language": "python",
   "name": "python3"
  },
  "language_info": {
   "codemirror_mode": {
    "name": "ipython",
    "version": 3
   },
   "file_extension": ".py",
   "mimetype": "text/x-python",
   "name": "python",
   "nbconvert_exporter": "python",
   "pygments_lexer": "ipython3",
   "version": "3.11.3"
  }
 },
 "nbformat": 4,
 "nbformat_minor": 5
}
