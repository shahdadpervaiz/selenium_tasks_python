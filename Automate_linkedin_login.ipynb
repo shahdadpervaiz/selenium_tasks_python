{
 "cells": [
  {
   "cell_type": "code",
   "execution_count": 3,
   "id": "4b656c34",
   "metadata": {},
   "outputs": [],
   "source": [
    "from selenium import webdriver\n",
    "import time\n",
    "from selenium.webdriver.common.keys import Keys\n",
    "from selenium.webdriver.common.action_chains import ActionChains"
   ]
  },
  {
   "cell_type": "code",
   "execution_count": 4,
   "id": "6a63b815",
   "metadata": {},
   "outputs": [
    {
     "name": "stdout",
     "output_type": "stream",
     "text": [
      "Enter the user_name :hd\n",
      "Enter the password :hd\n",
      "Enter the search key :dh\n"
     ]
    },
    {
     "ename": "NoSuchElementException",
     "evalue": "Message: Unable to locate element: /html/body/div[5]/header/div/div/div/div[1]/input; For documentation on this error, please visit: https://www.selenium.dev/documentation/webdriver/troubleshooting/errors#no-such-element-exception\nStacktrace:\nRemoteError@chrome://remote/content/shared/RemoteError.sys.mjs:8:8\nWebDriverError@chrome://remote/content/shared/webdriver/Errors.sys.mjs:187:5\nNoSuchElementError@chrome://remote/content/shared/webdriver/Errors.sys.mjs:505:5\ndom.find/</<@chrome://remote/content/shared/DOM.sys.mjs:132:16\n",
     "output_type": "error",
     "traceback": [
      "\u001b[1;31m---------------------------------------------------------------------------\u001b[0m",
      "\u001b[1;31mNoSuchElementException\u001b[0m                    Traceback (most recent call last)",
      "Cell \u001b[1;32mIn[4], line 33\u001b[0m\n\u001b[0;32m     29\u001b[0m pss_element\u001b[38;5;241m.\u001b[39mclick()\n\u001b[0;32m     31\u001b[0m time\u001b[38;5;241m.\u001b[39msleep(\u001b[38;5;241m5\u001b[39m)\n\u001b[1;32m---> 33\u001b[0m search_element \u001b[38;5;241m=\u001b[39m driver\u001b[38;5;241m.\u001b[39mfind_element(by\u001b[38;5;241m=\u001b[39m\u001b[38;5;124m\"\u001b[39m\u001b[38;5;124mxpath\u001b[39m\u001b[38;5;124m\"\u001b[39m, \n\u001b[0;32m     34\u001b[0m                                      value \u001b[38;5;241m=\u001b[39m credentials[\u001b[38;5;124m\"\u001b[39m\u001b[38;5;124msearch_person\u001b[39m\u001b[38;5;124m\"\u001b[39m])\n\u001b[0;32m     35\u001b[0m search_element\u001b[38;5;241m.\u001b[39mclick()\n\u001b[0;32m     36\u001b[0m time\u001b[38;5;241m.\u001b[39msleep(\u001b[38;5;241m2\u001b[39m)\n",
      "File \u001b[1;32m~\\anaconda3\\Lib\\site-packages\\selenium\\webdriver\\remote\\webdriver.py:739\u001b[0m, in \u001b[0;36mWebDriver.find_element\u001b[1;34m(self, by, value)\u001b[0m\n\u001b[0;32m    736\u001b[0m     by \u001b[38;5;241m=\u001b[39m By\u001b[38;5;241m.\u001b[39mCSS_SELECTOR\n\u001b[0;32m    737\u001b[0m     value \u001b[38;5;241m=\u001b[39m \u001b[38;5;124mf\u001b[39m\u001b[38;5;124m'\u001b[39m\u001b[38;5;124m[name=\u001b[39m\u001b[38;5;124m\"\u001b[39m\u001b[38;5;132;01m{\u001b[39;00mvalue\u001b[38;5;132;01m}\u001b[39;00m\u001b[38;5;124m\"\u001b[39m\u001b[38;5;124m]\u001b[39m\u001b[38;5;124m'\u001b[39m\n\u001b[1;32m--> 739\u001b[0m \u001b[38;5;28;01mreturn\u001b[39;00m \u001b[38;5;28mself\u001b[39m\u001b[38;5;241m.\u001b[39mexecute(Command\u001b[38;5;241m.\u001b[39mFIND_ELEMENT, {\u001b[38;5;124m\"\u001b[39m\u001b[38;5;124musing\u001b[39m\u001b[38;5;124m\"\u001b[39m: by, \u001b[38;5;124m\"\u001b[39m\u001b[38;5;124mvalue\u001b[39m\u001b[38;5;124m\"\u001b[39m: value})[\u001b[38;5;124m\"\u001b[39m\u001b[38;5;124mvalue\u001b[39m\u001b[38;5;124m\"\u001b[39m]\n",
      "File \u001b[1;32m~\\anaconda3\\Lib\\site-packages\\selenium\\webdriver\\remote\\webdriver.py:345\u001b[0m, in \u001b[0;36mWebDriver.execute\u001b[1;34m(self, driver_command, params)\u001b[0m\n\u001b[0;32m    343\u001b[0m response \u001b[38;5;241m=\u001b[39m \u001b[38;5;28mself\u001b[39m\u001b[38;5;241m.\u001b[39mcommand_executor\u001b[38;5;241m.\u001b[39mexecute(driver_command, params)\n\u001b[0;32m    344\u001b[0m \u001b[38;5;28;01mif\u001b[39;00m response:\n\u001b[1;32m--> 345\u001b[0m     \u001b[38;5;28mself\u001b[39m\u001b[38;5;241m.\u001b[39merror_handler\u001b[38;5;241m.\u001b[39mcheck_response(response)\n\u001b[0;32m    346\u001b[0m     response[\u001b[38;5;124m\"\u001b[39m\u001b[38;5;124mvalue\u001b[39m\u001b[38;5;124m\"\u001b[39m] \u001b[38;5;241m=\u001b[39m \u001b[38;5;28mself\u001b[39m\u001b[38;5;241m.\u001b[39m_unwrap_value(response\u001b[38;5;241m.\u001b[39mget(\u001b[38;5;124m\"\u001b[39m\u001b[38;5;124mvalue\u001b[39m\u001b[38;5;124m\"\u001b[39m, \u001b[38;5;28;01mNone\u001b[39;00m))\n\u001b[0;32m    347\u001b[0m     \u001b[38;5;28;01mreturn\u001b[39;00m response\n",
      "File \u001b[1;32m~\\anaconda3\\Lib\\site-packages\\selenium\\webdriver\\remote\\errorhandler.py:229\u001b[0m, in \u001b[0;36mErrorHandler.check_response\u001b[1;34m(self, response)\u001b[0m\n\u001b[0;32m    227\u001b[0m         alert_text \u001b[38;5;241m=\u001b[39m value[\u001b[38;5;124m\"\u001b[39m\u001b[38;5;124malert\u001b[39m\u001b[38;5;124m\"\u001b[39m]\u001b[38;5;241m.\u001b[39mget(\u001b[38;5;124m\"\u001b[39m\u001b[38;5;124mtext\u001b[39m\u001b[38;5;124m\"\u001b[39m)\n\u001b[0;32m    228\u001b[0m     \u001b[38;5;28;01mraise\u001b[39;00m exception_class(message, screen, stacktrace, alert_text)  \u001b[38;5;66;03m# type: ignore[call-arg]  # mypy is not smart enough here\u001b[39;00m\n\u001b[1;32m--> 229\u001b[0m \u001b[38;5;28;01mraise\u001b[39;00m exception_class(message, screen, stacktrace)\n",
      "\u001b[1;31mNoSuchElementException\u001b[0m: Message: Unable to locate element: /html/body/div[5]/header/div/div/div/div[1]/input; For documentation on this error, please visit: https://www.selenium.dev/documentation/webdriver/troubleshooting/errors#no-such-element-exception\nStacktrace:\nRemoteError@chrome://remote/content/shared/RemoteError.sys.mjs:8:8\nWebDriverError@chrome://remote/content/shared/webdriver/Errors.sys.mjs:187:5\nNoSuchElementError@chrome://remote/content/shared/webdriver/Errors.sys.mjs:505:5\ndom.find/</<@chrome://remote/content/shared/DOM.sys.mjs:132:16\n"
     ]
    }
   ],
   "source": [
    "us_id = input('Enter the user_name :')\n",
    "pas = input('Enter the password :')\n",
    "\n",
    "search_key= input('Enter the search key :')\n",
    "\n",
    "credentials = {\"user_name\":\"username\",\n",
    "               \"passwrd\":\"password\" ,\n",
    "               \"ent\":\"/html/body/div/main/div[2]/div[1]/form/div[3]/button\",\n",
    "               \"search_person\":\"/html/body/div[5]/header/div/div/div/div[1]/input\",\n",
    "               \"but\":\"button\"\n",
    "              }\n",
    "\n",
    "\n",
    "driver = webdriver.Firefox()\n",
    "web = driver.get('https://www.linkedin.com/login?fromSignIn=true&trk=guest_homepage-basic_nav-header-signin')\n",
    "time.sleep(5)\n",
    "\n",
    "user_element = driver.find_element(by=\"id\",\n",
    "                                   value=credentials[\"user_name\"])\n",
    "time.sleep(4)\n",
    "user_element.send_keys(us_id)\n",
    "\n",
    "pss_element = driver.find_element(by=\"id\", \n",
    "                                  value = credentials[\"passwrd\"])\n",
    "time.sleep(2)\n",
    "pss_element.send_keys(pas) \n",
    "\n",
    "pss_element = driver.find_element(by=\"xpath\",value =credentials[\"ent\"])\n",
    "pss_element.click()\n",
    "\n",
    "time.sleep(5)\n",
    "\n",
    "search_element = driver.find_element(by=\"xpath\", \n",
    "                                     value = credentials[\"search_person\"])\n",
    "search_element.click()\n",
    "time.sleep(2)\n",
    "search_element.send_keys(search_key)\n",
    "search_element.send_keys(Keys.ENTER)\n",
    "\n",
    "time.sleep(2)\n",
    "driver.get(f'https://www.linkedin.com/search/results/people/?heroEntityKey=urn%3Ali%3Aorganization%3A9437593&keywords={search_key}&origin=CLUSTER_EXPANSION&position=1&searchId=eadc3aa1-2ef3-428a-ab60-7438bd94402e&sid=Co4')\n",
    "\n",
    "\n",
    "time.sleep(2)\n",
    "\n",
    "send_re = driver.find_elements(by='tag name', value =credentials['but'])\n",
    "for btn in send_re:\n",
    "    if btn.text == \"Connect\":\n",
    "        btn.click()\n",
    "        time.sleep(2)\n",
    "        sen = driver.find_elements(by ='tag name', value= credentials[\"but\"])\n",
    "        for bt in sen:\n",
    "            if bt.text == 'Send':\n",
    "                bt.click()\n",
    "            print('request sent')\n",
    "    else:\n",
    "        print('not working')"
   ]
  },
  {
   "cell_type": "code",
   "execution_count": null,
   "id": "568896e2",
   "metadata": {},
   "outputs": [],
   "source": []
  }
 ],
 "metadata": {
  "kernelspec": {
   "display_name": "Python 3 (ipykernel)",
   "language": "python",
   "name": "python3"
  },
  "language_info": {
   "codemirror_mode": {
    "name": "ipython",
    "version": 3
   },
   "file_extension": ".py",
   "mimetype": "text/x-python",
   "name": "python",
   "nbconvert_exporter": "python",
   "pygments_lexer": "ipython3",
   "version": "3.11.3"
  }
 },
 "nbformat": 4,
 "nbformat_minor": 5
}
